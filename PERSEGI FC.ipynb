{
 "cells": [
  {
   "cell_type": "markdown",
   "id": "895e3a15-0610-4a52-a553-8718b6f005e0",
   "metadata": {},
   "source": [
    "<h3>Persegi FC</h3>"
   ]
  },
  {
   "cell_type": "code",
   "execution_count": 2,
   "id": "b578cf5e-06af-4113-a684-2b242ffe117f",
   "metadata": {},
   "outputs": [
    {
     "name": "stdin",
     "output_type": "stream",
     "text": [
      "masukan nomor punggung : 90\n"
     ]
    },
    {
     "name": "stdout",
     "output_type": "stream",
     "text": [
      "posisi :berhak di pilih menjadi capten team\n"
     ]
    }
   ],
   "source": [
    "nomor_punggung = int(input(\"masukan nomor punggung :\"))\n",
    "posisi_pemain =''\n",
    "\n",
    "if nomor_punggung % 2 == 0:\n",
    "    if nomor_punggung >= 50 and nomor_punggung <=100:\n",
    "        posisi_pemain = \"berhak di pilih menjadi capten team\"\n",
    "    else:\n",
    "        posisi_pemain =\"target attacker\"\n",
    "else:\n",
    "    if nomor_punggung > 90:\n",
    "        posisi_pemain = \"playmaker\"\n",
    "    elif  nomor_punggung % 3 == 0 and nomor_punggung % 5 == 0:\n",
    "        posisi_pemain = \"keeper\"\n",
    "    else:\n",
    "        posisi_pemain = \"defender\"\n",
    "print(\"posisi :\"+posisi_pemain)"
   ]
  },
  {
   "cell_type": "code",
   "execution_count": null,
   "id": "425b6fb2-e292-40a6-80ac-cde760e7a0f0",
   "metadata": {},
   "outputs": [],
   "source": []
  }
 ],
 "metadata": {
  "kernelspec": {
   "display_name": "Python 3 (ipykernel)",
   "language": "python",
   "name": "python3"
  },
  "language_info": {
   "codemirror_mode": {
    "name": "ipython",
    "version": 3
   },
   "file_extension": ".py",
   "mimetype": "text/x-python",
   "name": "python",
   "nbconvert_exporter": "python",
   "pygments_lexer": "ipython3",
   "version": "3.11.7"
  }
 },
 "nbformat": 4,
 "nbformat_minor": 5
}
